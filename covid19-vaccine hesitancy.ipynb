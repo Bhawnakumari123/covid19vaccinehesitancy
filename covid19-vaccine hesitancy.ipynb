{
 "cells": [
  {
   "cell_type": "code",
   "execution_count": null,
   "id": "ed7d7d62",
   "metadata": {},
   "outputs": [],
   "source": [
    "import pandas as pd\n",
    "import numpy as np"
   ]
  },
  {
   "cell_type": "code",
   "execution_count": null,
   "id": "135cd9b3",
   "metadata": {},
   "outputs": [],
   "source": [
    "a = pd.read_csv(\"C:/Users/Administrator/Desktop/python assignment/2022-03.csv\")\n",
    "b = pd.read_csv(\"‪C:/Users/Administrator/Desktop/python assignment/2022-04.csv\")\n",
    "c = pd.read_csv(\"C:/Users/Administrator/Desktop/python assignment/2022-05.csv\")\n",
    "d = pd.read_csv(\"‪C:/Users/Administrator/Desktop/python assignment/2022-06.csv\")"
   ]
  },
  {
   "cell_type": "code",
   "execution_count": null,
   "id": "46f81635",
   "metadata": {},
   "outputs": [],
   "source": [
    "frames = [a,b,c,d]"
   ]
  },
  {
   "cell_type": "code",
   "execution_count": null,
   "id": "91ae9b28",
   "metadata": {},
   "outputs": [],
   "source": [
    "df = pd.concat(frames)"
   ]
  },
  {
   "cell_type": "code",
   "execution_count": null,
   "id": "a940aa76",
   "metadata": {},
   "outputs": [],
   "source": [
    "df.head()"
   ]
  },
  {
   "cell_type": "code",
   "execution_count": null,
   "id": "a06bf400",
   "metadata": {},
   "outputs": [],
   "source": [
    "df.shape"
   ]
  },
  {
   "cell_type": "code",
   "execution_count": null,
   "id": "6ba40de7",
   "metadata": {
    "scrolled": false
   },
   "outputs": [],
   "source": [
    "df.info(\"all\")"
   ]
  },
  {
   "cell_type": "markdown",
   "id": "2e736d7c",
   "metadata": {},
   "source": [
    "# Section A: Symptoms (forecast)"
   ]
  },
  {
   "cell_type": "markdown",
   "id": "324c6670",
   "metadata": {},
   "source": [
    "# 1st Question"
   ]
  },
  {
   "cell_type": "code",
   "execution_count": null,
   "id": "e892dda2",
   "metadata": {},
   "outputs": [],
   "source": [
    "df1 = df.iloc[:,2:7]"
   ]
  },
  {
   "cell_type": "code",
   "execution_count": null,
   "id": "6cd0c119",
   "metadata": {},
   "outputs": [],
   "source": [
    "df1"
   ]
  },
  {
   "cell_type": "code",
   "execution_count": null,
   "id": "2b645cbf",
   "metadata": {},
   "outputs": [],
   "source": [
    "df1.dropna(axis = 0,inplace= True)"
   ]
  },
  {
   "cell_type": "code",
   "execution_count": null,
   "id": "b5095f9c",
   "metadata": {},
   "outputs": [],
   "source": [
    "df1.isnull().sum()"
   ]
  },
  {
   "cell_type": "code",
   "execution_count": null,
   "id": "89b7626a",
   "metadata": {},
   "outputs": [],
   "source": [
    "df1.replace([2],0)"
   ]
  },
  {
   "cell_type": "code",
   "execution_count": null,
   "id": "07a385ab",
   "metadata": {},
   "outputs": [],
   "source": [
    "df1 = df1.astype(int)"
   ]
  },
  {
   "cell_type": "code",
   "execution_count": null,
   "id": "d8c59916",
   "metadata": {},
   "outputs": [],
   "source": [
    "df1"
   ]
  },
  {
   "cell_type": "code",
   "execution_count": null,
   "id": "cd108b73",
   "metadata": {},
   "outputs": [],
   "source": [
    "df1.rename(columns={'A1_1':'Fever', 'A1_2':'Sore Throat', 'A1_3':'Cough','A1_4':'Shortness of Breath','A1_5':'Difficulty Breathing'}, inplace = True)"
   ]
  },
  {
   "cell_type": "code",
   "execution_count": null,
   "id": "b1249cf7",
   "metadata": {},
   "outputs": [],
   "source": [
    "df1"
   ]
  },
  {
   "cell_type": "code",
   "execution_count": null,
   "id": "49aaf79b",
   "metadata": {},
   "outputs": [],
   "source": [
    "df1.replace([2],0)"
   ]
  },
  {
   "cell_type": "code",
   "execution_count": null,
   "id": "0655830c",
   "metadata": {},
   "outputs": [],
   "source": [
    "col = df1.columns\n",
    "col"
   ]
  },
  {
   "cell_type": "code",
   "execution_count": null,
   "id": "302a149d",
   "metadata": {},
   "outputs": [],
   "source": [
    "total = []\n",
    "for i in df1:\n",
    "    v = df1[i].sum()\n",
    "    total.append(v)"
   ]
  },
  {
   "cell_type": "code",
   "execution_count": null,
   "id": "2fc69ad8",
   "metadata": {},
   "outputs": [],
   "source": [
    "total"
   ]
  },
  {
   "cell_type": "code",
   "execution_count": null,
   "id": "30d83b31",
   "metadata": {},
   "outputs": [],
   "source": [
    "da = pd.DataFrame({\"Symptoms\":col,\"Number of people Affected\":total})"
   ]
  },
  {
   "cell_type": "code",
   "execution_count": null,
   "id": "3738efef",
   "metadata": {},
   "outputs": [],
   "source": [
    "da"
   ]
  },
  {
   "cell_type": "code",
   "execution_count": null,
   "id": "10bf80a9",
   "metadata": {},
   "outputs": [],
   "source": [
    "import plotly.express as px"
   ]
  },
  {
   "cell_type": "code",
   "execution_count": null,
   "id": "8503269b",
   "metadata": {},
   "outputs": [],
   "source": [
    "fig = px.bar(da,x = \"Symptoms\",y = \"Number of people Affected\",title = \"PAST 24 HOURS COVID19 SYMPTOMS\")"
   ]
  },
  {
   "cell_type": "code",
   "execution_count": null,
   "id": "2b8ecbad",
   "metadata": {
    "scrolled": true
   },
   "outputs": [],
   "source": [
    "fig.show()"
   ]
  },
  {
   "cell_type": "markdown",
   "id": "199a2790",
   "metadata": {},
   "source": [
    "# 2nd question"
   ]
  },
  {
   "cell_type": "code",
   "execution_count": null,
   "id": "283f4112",
   "metadata": {},
   "outputs": [],
   "source": [
    "df1 = df.iloc[:,[2,7]] #[:,[2,7]] to select particular columns from the data"
   ]
  },
  {
   "cell_type": "code",
   "execution_count": null,
   "id": "2195e21b",
   "metadata": {},
   "outputs": [],
   "source": [
    "df1"
   ]
  },
  {
   "cell_type": "code",
   "execution_count": null,
   "id": "ca26279d",
   "metadata": {},
   "outputs": [],
   "source": [
    "df1.dropna(axis = 0 ,inplace =True)"
   ]
  },
  {
   "cell_type": "code",
   "execution_count": null,
   "id": "32e47cf2",
   "metadata": {},
   "outputs": [],
   "source": [
    "df1.isnull().sum()"
   ]
  },
  {
   "cell_type": "code",
   "execution_count": null,
   "id": "ee1ac8f5",
   "metadata": {},
   "outputs": [],
   "source": [
    "df1.rename(columns={\"A1_1\":\"Fever\",\"A2\":\"Other Symptom\"},inplace = True)"
   ]
  },
  {
   "cell_type": "code",
   "execution_count": null,
   "id": "74100843",
   "metadata": {},
   "outputs": [],
   "source": [
    "df1"
   ]
  },
  {
   "cell_type": "code",
   "execution_count": null,
   "id": "ec613d03",
   "metadata": {},
   "outputs": [],
   "source": [
    "col = df1.columns\n",
    "col"
   ]
  },
  {
   "cell_type": "code",
   "execution_count": null,
   "id": "3af8ab85",
   "metadata": {},
   "outputs": [],
   "source": [
    "df1 = df1.astype(int)\n",
    "df1"
   ]
  },
  {
   "cell_type": "code",
   "execution_count": null,
   "id": "92822a24",
   "metadata": {},
   "outputs": [],
   "source": [
    "col = df1.columns\n",
    "col"
   ]
  },
  {
   "cell_type": "code",
   "execution_count": null,
   "id": "9401e58f",
   "metadata": {},
   "outputs": [],
   "source": [
    "df1 = df1.astype(int)\n",
    "df1"
   ]
  },
  {
   "cell_type": "code",
   "execution_count": null,
   "id": "71431983",
   "metadata": {},
   "outputs": [],
   "source": [
    "df1.replace([2],0)"
   ]
  },
  {
   "cell_type": "code",
   "execution_count": null,
   "id": "666c2c2b",
   "metadata": {},
   "outputs": [],
   "source": [
    "total = []\n",
    "for i in df1:\n",
    "  v = df1[i].sum()\n",
    "  total.append(v)"
   ]
  },
  {
   "cell_type": "code",
   "execution_count": null,
   "id": "0b91a9db",
   "metadata": {},
   "outputs": [],
   "source": [
    "total"
   ]
  },
  {
   "cell_type": "code",
   "execution_count": null,
   "id": "359ae7e2",
   "metadata": {},
   "outputs": [],
   "source": [
    "da = pd.DataFrame({'Symptoms':col,\"Number of People\":total})"
   ]
  },
  {
   "cell_type": "code",
   "execution_count": null,
   "id": "7b31b53a",
   "metadata": {},
   "outputs": [],
   "source": [
    "da"
   ]
  },
  {
   "cell_type": "code",
   "execution_count": null,
   "id": "f3d18874",
   "metadata": {},
   "outputs": [],
   "source": [
    "import plotly.express as px"
   ]
  },
  {
   "cell_type": "code",
   "execution_count": null,
   "id": "d8243b9a",
   "metadata": {},
   "outputs": [],
   "source": [
    "fig = px.bar(da,x = 'Symptoms',y = 'Number of People',title = 'fever along with another symptom ')"
   ]
  },
  {
   "cell_type": "code",
   "execution_count": null,
   "id": "6239fe02",
   "metadata": {},
   "outputs": [],
   "source": [
    "fig.show()"
   ]
  },
  {
   "cell_type": "markdown",
   "id": "aa26f5f1",
   "metadata": {},
   "source": [
    "# 3rd question"
   ]
  },
  {
   "cell_type": "code",
   "execution_count": null,
   "id": "16b04828",
   "metadata": {},
   "outputs": [],
   "source": [
    "df1 = df.iloc[:,9:12]"
   ]
  },
  {
   "cell_type": "code",
   "execution_count": null,
   "id": "f330bd77",
   "metadata": {},
   "outputs": [],
   "source": [
    "df1"
   ]
  },
  {
   "cell_type": "code",
   "execution_count": null,
   "id": "e073a6c8",
   "metadata": {},
   "outputs": [],
   "source": [
    "df1.dropna(axis = 0,inplace =True)"
   ]
  },
  {
   "cell_type": "code",
   "execution_count": null,
   "id": "ee4e343d",
   "metadata": {},
   "outputs": [],
   "source": [
    "df1.isnull().sum()"
   ]
  },
  {
   "cell_type": "code",
   "execution_count": null,
   "id": "0105068c",
   "metadata": {},
   "outputs": [],
   "source": [
    "df1.rename(columns= {'A5_1':'Under 18 Years','A5_2':'18 to 64 years old','A5_3':'65 years or Above'},inplace = True)"
   ]
  },
  {
   "cell_type": "code",
   "execution_count": null,
   "id": "9c6a04a6",
   "metadata": {},
   "outputs": [],
   "source": [
    "df1"
   ]
  },
  {
   "cell_type": "code",
   "execution_count": null,
   "id": "5dcaab65",
   "metadata": {},
   "outputs": [],
   "source": [
    "col = df1.columns\n",
    "col"
   ]
  },
  {
   "cell_type": "code",
   "execution_count": null,
   "id": "466c7a52",
   "metadata": {},
   "outputs": [],
   "source": [
    "df1 = df1.astype(int)"
   ]
  },
  {
   "cell_type": "code",
   "execution_count": null,
   "id": "43edb5b9",
   "metadata": {},
   "outputs": [],
   "source": [
    "df1"
   ]
  },
  {
   "cell_type": "code",
   "execution_count": null,
   "id": "64ebc108",
   "metadata": {},
   "outputs": [],
   "source": [
    "total = []\n",
    "for i in df1:\n",
    "  v=df1[i].sum()\n",
    "  total.append(v)"
   ]
  },
  {
   "cell_type": "code",
   "execution_count": null,
   "id": "c5ef1588",
   "metadata": {},
   "outputs": [],
   "source": [
    "total"
   ]
  },
  {
   "cell_type": "code",
   "execution_count": null,
   "id": "88233b25",
   "metadata": {},
   "outputs": [],
   "source": [
    "da = pd.DataFrame({\"Age\":col, \"Number of People\":total})"
   ]
  },
  {
   "cell_type": "code",
   "execution_count": null,
   "id": "3bf8b669",
   "metadata": {},
   "outputs": [],
   "source": [
    "da"
   ]
  },
  {
   "cell_type": "code",
   "execution_count": null,
   "id": "526f9f77",
   "metadata": {},
   "outputs": [],
   "source": [
    "import plotly.express as px"
   ]
  },
  {
   "cell_type": "code",
   "execution_count": null,
   "id": "7afd6bed",
   "metadata": {},
   "outputs": [],
   "source": [
    "fig = px.bar(da, x =\"Age\",y = \"Number of People\",title = \"Number of People Staying in Households\")"
   ]
  },
  {
   "cell_type": "code",
   "execution_count": null,
   "id": "db8a0fc8",
   "metadata": {},
   "outputs": [],
   "source": [
    "fig.show()"
   ]
  },
  {
   "cell_type": "markdown",
   "id": "f2482ce9",
   "metadata": {},
   "source": [
    "# 4th Question"
   ]
  },
  {
   "cell_type": "code",
   "execution_count": null,
   "id": "ee19e74f",
   "metadata": {},
   "outputs": [],
   "source": [
    "df1 = df.iloc[:,[2,14]] #[:,[2,14]] to select particular columns from the data"
   ]
  },
  {
   "cell_type": "code",
   "execution_count": null,
   "id": "13d1e12a",
   "metadata": {},
   "outputs": [],
   "source": [
    "df1"
   ]
  },
  {
   "cell_type": "code",
   "execution_count": null,
   "id": "f1e03287",
   "metadata": {},
   "outputs": [],
   "source": [
    "df1.dropna(axis = 0, inplace = True)"
   ]
  },
  {
   "cell_type": "code",
   "execution_count": null,
   "id": "e2186f1e",
   "metadata": {},
   "outputs": [],
   "source": [
    "df1"
   ]
  },
  {
   "cell_type": "code",
   "execution_count": null,
   "id": "d6085907",
   "metadata": {},
   "outputs": [],
   "source": [
    "df1 = df1.astype(int)"
   ]
  },
  {
   "cell_type": "code",
   "execution_count": null,
   "id": "496c5141",
   "metadata": {},
   "outputs": [],
   "source": [
    "df1"
   ]
  },
  {
   "cell_type": "code",
   "execution_count": null,
   "id": "453de9dc",
   "metadata": {},
   "outputs": [],
   "source": [
    "df1.replace([2],0)"
   ]
  },
  {
   "cell_type": "code",
   "execution_count": null,
   "id": "bda609d3",
   "metadata": {},
   "outputs": [],
   "source": [
    "df1.rename(columns={\"A1_1\":'Fever','A4':\"other symptom\"},inplace = True)"
   ]
  },
  {
   "cell_type": "code",
   "execution_count": null,
   "id": "c6092e9f",
   "metadata": {},
   "outputs": [],
   "source": [
    "df1"
   ]
  },
  {
   "cell_type": "code",
   "execution_count": null,
   "id": "e06144ff",
   "metadata": {},
   "outputs": [],
   "source": [
    "col = df1.columns\n",
    "col"
   ]
  },
  {
   "cell_type": "code",
   "execution_count": null,
   "id": "0ed22cfc",
   "metadata": {},
   "outputs": [],
   "source": [
    "total = []\n",
    "for i in df1:\n",
    "  v = df1[i].sum()\n",
    "  total.append(v)"
   ]
  },
  {
   "cell_type": "code",
   "execution_count": null,
   "id": "aa42ebf9",
   "metadata": {},
   "outputs": [],
   "source": [
    "total"
   ]
  },
  {
   "cell_type": "code",
   "execution_count": null,
   "id": "a11f21d9",
   "metadata": {},
   "outputs": [],
   "source": [
    "da = pd.DataFrame({\"Symptoms\":col,\"Number of People\":total})"
   ]
  },
  {
   "cell_type": "code",
   "execution_count": null,
   "id": "10378369",
   "metadata": {},
   "outputs": [],
   "source": [
    "da"
   ]
  },
  {
   "cell_type": "code",
   "execution_count": null,
   "id": "32e5de54",
   "metadata": {},
   "outputs": [],
   "source": [
    "import plotly.express as px"
   ]
  },
  {
   "cell_type": "code",
   "execution_count": null,
   "id": "a03ecdb8",
   "metadata": {},
   "outputs": [],
   "source": [
    "fig = px.bar(da,x =\"Symptoms\",y = \"Number of People\",title = \"Number of People Affected with Fever and Other Symptom\")"
   ]
  },
  {
   "cell_type": "code",
   "execution_count": null,
   "id": "891bd8fd",
   "metadata": {},
   "outputs": [],
   "source": [
    "fig.show()"
   ]
  },
  {
   "cell_type": "markdown",
   "id": "43aff0f2",
   "metadata": {},
   "source": [
    "# 5th Question"
   ]
  },
  {
   "cell_type": "code",
   "execution_count": null,
   "id": "f0ebe32c",
   "metadata": {},
   "outputs": [],
   "source": [
    "df1 = df.iloc[:,12:13]"
   ]
  },
  {
   "cell_type": "code",
   "execution_count": null,
   "id": "5d3ca8c2",
   "metadata": {},
   "outputs": [],
   "source": [
    "df1"
   ]
  },
  {
   "cell_type": "code",
   "execution_count": null,
   "id": "e32fa8c4",
   "metadata": {},
   "outputs": [],
   "source": [
    "df1.isnull().sum()"
   ]
  },
  {
   "cell_type": "code",
   "execution_count": null,
   "id": "20c16d66",
   "metadata": {},
   "outputs": [],
   "source": [
    "df1.dropna(axis = 0 , inplace = True)"
   ]
  },
  {
   "cell_type": "code",
   "execution_count": null,
   "id": "411997da",
   "metadata": {},
   "outputs": [],
   "source": [
    "df1"
   ]
  },
  {
   "cell_type": "code",
   "execution_count": null,
   "id": "6285dad9",
   "metadata": {},
   "outputs": [],
   "source": [
    "df1.nunique()"
   ]
  },
  {
   "cell_type": "code",
   "execution_count": null,
   "id": "f35d4d27",
   "metadata": {},
   "outputs": [],
   "source": [
    "df1.value_counts()"
   ]
  },
  {
   "cell_type": "code",
   "execution_count": null,
   "id": "6083895f",
   "metadata": {},
   "outputs": [],
   "source": [
    "df1.rename(columns ={\"A3\":\"zip codes\"},inplace =True)"
   ]
  },
  {
   "cell_type": "code",
   "execution_count": null,
   "id": "9e371a81",
   "metadata": {},
   "outputs": [],
   "source": [
    "df1  = df1.astype(int)"
   ]
  },
  {
   "cell_type": "code",
   "execution_count": null,
   "id": "956a894f",
   "metadata": {},
   "outputs": [],
   "source": [
    "df1"
   ]
  },
  {
   "cell_type": "code",
   "execution_count": null,
   "id": "31911a66",
   "metadata": {},
   "outputs": [],
   "source": [
    "r = 10\n",
    "df1.value_counts()[:r].index.tolist()"
   ]
  },
  {
   "cell_type": "code",
   "execution_count": null,
   "id": "ca534724",
   "metadata": {},
   "outputs": [],
   "source": [
    "df1.value_counts()[:5].plot(kind='bar')"
   ]
  },
  {
   "cell_type": "markdown",
   "id": "c8337235",
   "metadata": {},
   "source": [
    "# Section B : Symptoms (non forecast)\n"
   ]
  },
  {
   "cell_type": "markdown",
   "id": "e27291c3",
   "metadata": {},
   "source": [
    "# 6th Question"
   ]
  },
  {
   "cell_type": "code",
   "execution_count": null,
   "id": "e27e3ff0",
   "metadata": {},
   "outputs": [],
   "source": [
    "df1 = df.iloc[:,15:16]"
   ]
  },
  {
   "cell_type": "code",
   "execution_count": null,
   "id": "9c6d1116",
   "metadata": {},
   "outputs": [],
   "source": [
    "df1"
   ]
  },
  {
   "cell_type": "code",
   "execution_count": null,
   "id": "0555c91b",
   "metadata": {},
   "outputs": [],
   "source": [
    "df1.dropna(axis = 0,inplace = True)"
   ]
  },
  {
   "cell_type": "code",
   "execution_count": null,
   "id": "4031cac3",
   "metadata": {},
   "outputs": [],
   "source": [
    "df1.nunique()"
   ]
  },
  {
   "cell_type": "code",
   "execution_count": null,
   "id": "651456bd",
   "metadata": {},
   "outputs": [],
   "source": [
    "df1.rename(columns= {'B2':\"Past 24 Hours Symptoms\"},inplace = True)"
   ]
  },
  {
   "cell_type": "code",
   "execution_count": null,
   "id": "220c3ca2",
   "metadata": {},
   "outputs": [],
   "source": [
    "df1"
   ]
  },
  {
   "cell_type": "code",
   "execution_count": null,
   "id": "b4c4cd8b",
   "metadata": {},
   "outputs": [],
   "source": [
    "df1 = pd.get_dummies(df['B2'])"
   ]
  },
  {
   "cell_type": "code",
   "execution_count": null,
   "id": "db75eeef",
   "metadata": {},
   "outputs": [],
   "source": []
  },
  {
   "cell_type": "code",
   "execution_count": null,
   "id": "a55c564c",
   "metadata": {},
   "outputs": [],
   "source": []
  }
 ],
 "metadata": {
  "kernelspec": {
   "display_name": "Python 3 (ipykernel)",
   "language": "python",
   "name": "python3"
  },
  "language_info": {
   "codemirror_mode": {
    "name": "ipython",
    "version": 3
   },
   "file_extension": ".py",
   "mimetype": "text/x-python",
   "name": "python",
   "nbconvert_exporter": "python",
   "pygments_lexer": "ipython3",
   "version": "3.11.4"
  }
 },
 "nbformat": 4,
 "nbformat_minor": 5
}
